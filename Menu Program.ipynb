{
 "cells": [
  {
   "cell_type": "code",
   "execution_count": 3,
   "metadata": {},
   "outputs": [
    {
     "name": "stdout",
     "output_type": "stream",
     "text": [
      "Main Menu:\n",
      "1. Addition\n",
      "2. Substraction\n",
      "3. Multiplication\n",
      "4. Division\n",
      "5. Quit\n",
      "Please make a choice: 1\n",
      "Enter a number: 3\n",
      "Enter another numner: 4\n",
      "Addition is: 7\n",
      "Please make a choice: 2\n",
      "Enter a number: 4\n",
      "Enter another numner: 2\n",
      "Substraction is: 2\n",
      "Please make a choice: 3\n",
      "Enter a number: 5\n",
      "Enter another numner: 10\n",
      "Multiplication is: 50\n",
      "Please make a choice: 4\n",
      "Enter a number: 10\n",
      "Enter another numner: 0\n",
      "division by zero\n",
      "Please make a choice: 4\n",
      "Enter a number: 10\n",
      "Enter another numner: 2\n",
      "Division is: 5.0\n",
      "Please make a choice: 5\n"
     ]
    }
   ],
   "source": [
    "print(\"Main Menu:\")\n",
    "print(\"1. Addition\")\n",
    "print(\"2. Substraction\")\n",
    "print(\"3. Multiplication\")\n",
    "print(\"4. Division\")\n",
    "print(\"5. Quit\")\n",
    "\n",
    "def add():\n",
    "    num1 = int(input(\"Enter a number: \"))\n",
    "    num2 = int(input(\"Enter another numner: \"))\n",
    "    print(\"Addition is: {}\".format(num1 + num2))\n",
    "\n",
    "def sub():\n",
    "    num1 = int(input(\"Enter a number: \"))\n",
    "    num2 = int(input(\"Enter another numner: \"))\n",
    "    print(\"Substraction is: {}\".format(num1 - num2))\n",
    "    \n",
    "def mul():\n",
    "    num1 = int(input(\"Enter a number: \"))\n",
    "    num2 = int(input(\"Enter another numner: \"))\n",
    "    print(\"Multiplication is: {}\".format(num1 * num2))\n",
    "\n",
    "def div():\n",
    "    try:\n",
    "        num1 = int(input(\"Enter a number: \"))\n",
    "        num2 = int(input(\"Enter another numner: \"))\n",
    "        print(\"Division is: {}\".format(num1 / num2))\n",
    "    except ZeroDivisionError as e:\n",
    "        print(e)\n",
    "while True:\n",
    "    try:\n",
    "        choice = int(input(\"Please make a choice: \"))\n",
    "    except:\n",
    "        continue\n",
    "\n",
    "    if choice == 1:\n",
    "        add()\n",
    "    if choice ==2:\n",
    "        sub()\n",
    "    if choice == 3:\n",
    "        mul()\n",
    "    if choice == 4:\n",
    "        div()\n",
    "    if choice == 5:\n",
    "        break"
   ]
  },
  {
   "cell_type": "code",
   "execution_count": null,
   "metadata": {},
   "outputs": [],
   "source": []
  }
 ],
 "metadata": {
  "kernelspec": {
   "display_name": "Python 3",
   "language": "python",
   "name": "python3"
  },
  "language_info": {
   "codemirror_mode": {
    "name": "ipython",
    "version": 3
   },
   "file_extension": ".py",
   "mimetype": "text/x-python",
   "name": "python",
   "nbconvert_exporter": "python",
   "pygments_lexer": "ipython3",
   "version": "3.7.6"
  }
 },
 "nbformat": 4,
 "nbformat_minor": 4
}
